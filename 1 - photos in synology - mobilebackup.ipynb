{
 "cells": [
  {
   "cell_type": "markdown",
   "id": "21b08abc-d1c8-41a3-8930-832136e36e6d",
   "metadata": {},
   "source": [
    "# Problem"
   ]
  },
  {
   "cell_type": "markdown",
   "id": "ed4f0e49-8ea0-4a53-b94e-d4ce1b6abe5a",
   "metadata": {
    "execution": {
     "iopub.execute_input": "2023-05-08T08:35:37.766482Z",
     "iopub.status.busy": "2023-05-08T08:35:37.766227Z",
     "iopub.status.idle": "2023-05-08T08:35:37.771703Z",
     "shell.execute_reply": "2023-05-08T08:35:37.771120Z",
     "shell.execute_reply.started": "2023-05-08T08:35:37.766466Z"
    }
   },
   "source": [
    "I have just setup Synology Photos to backup photos from my mobile and then be abble to setup albums."
   ]
  },
  {
   "cell_type": "markdown",
   "id": "278fa9a3-eae1-4901-bdd6-04e82cfd5856",
   "metadata": {},
   "source": [
    "Organisation of photos is like this:\n",
    "\n",
    "```bash\n",
    "MobileBackup\n",
    "|\n",
    "|__<Name of mobile>\n",
    "   |\n",
    "   |__<Names of folders. e.g. DCIM, Downloads, Whatsapp, ..>\n",
    "      |\n",
    "      |__<Years>\n",
    "         |\n",
    "         |__<Months>\n",
    "            |\n",
    "            |__photo1\n",
    "            |__photo2\n",
    "\n",
    "```"
   ]
  },
  {
   "cell_type": "markdown",
   "id": "39ffcadc-91fc-44ee-b3a1-0c2cfed142ce",
   "metadata": {},
   "source": [
    "and based on exif (my guess) info, Years and Months can be properly guessed or not."
   ]
  },
  {
   "cell_type": "markdown",
   "id": "1673253e-a52b-4baf-ab31-109d2efcee50",
   "metadata": {},
   "source": [
    "## Example"
   ]
  },
  {
   "cell_type": "markdown",
   "id": "492bbcd8-8cc0-4558-a316-b01a96f95f7e",
   "metadata": {},
   "source": [
    "not sure I have problems anymore after running my process to set exif data and rename files of wallpapers."
   ]
  },
  {
   "cell_type": "markdown",
   "id": "149aa0f0-f8d5-4572-8f33-2e226243e0ff",
   "metadata": {},
   "source": [
    "My current process is:"
   ]
  },
  {
   "cell_type": "code",
   "execution_count": 2,
   "id": "edf3bf13-268f-41c8-beeb-714d9af25a31",
   "metadata": {
    "execution": {
     "iopub.execute_input": "2023-05-08T08:55:33.397415Z",
     "iopub.status.busy": "2023-05-08T08:55:33.396958Z",
     "iopub.status.idle": "2023-05-08T08:55:33.516864Z",
     "shell.execute_reply": "2023-05-08T08:55:33.515140Z",
     "shell.execute_reply.started": "2023-05-08T08:55:33.397377Z"
    }
   },
   "outputs": [
    {
     "name": "stdout",
     "output_type": "stream",
     "text": [
      "./rename_files.sh\n",
      "\n",
      "ca va traiter les fichiers images dans le rep outils\n",
      "les fichiers avec date exif sont deplaces dans le sous rep null\n",
      "les fichiers dans date exif sont à modifier avec shotwell\n"
     ]
    }
   ],
   "source": [
    "!cat /home/guillaume/Dropbox/Wallpapers/outils/readme.txt"
   ]
  },
  {
   "cell_type": "markdown",
   "id": "653992d5-b7fb-4724-8012-7b3bc5767904",
   "metadata": {},
   "source": [
    "with this script"
   ]
  },
  {
   "cell_type": "code",
   "execution_count": 3,
   "id": "4bd7b910-a70c-4891-a3ee-44a5a646cdae",
   "metadata": {
    "execution": {
     "iopub.execute_input": "2023-05-08T08:56:02.319945Z",
     "iopub.status.busy": "2023-05-08T08:56:02.319651Z",
     "iopub.status.idle": "2023-05-08T08:56:02.433818Z",
     "shell.execute_reply": "2023-05-08T08:56:02.432161Z",
     "shell.execute_reply.started": "2023-05-08T08:56:02.319916Z"
    }
   },
   "outputs": [
    {
     "name": "stdout",
     "output_type": "stream",
     "text": [
      "#!/bin/bash\n",
      "filename='liste_fichier2.txt'\n",
      "ls *.jpg > $filename\n",
      "exec 4<$filename\n",
      "echo Start\n",
      "while read -u4 p ; do\n",
      "    echo $p\n",
      "#\tfind ~/Nas/Photos/ -name \"$p\" -exec ./saveCopy {} ~/temp/ \\;\n",
      "    java -jar ~/Dropbox/Documents\\ Guillaume/scripts/rename_images/PrefixImagewithShootDate.jar \"$p\"\n",
      "done\n",
      "\n"
     ]
    }
   ],
   "source": [
    "!cat /home/guillaume/Dropbox/Wallpapers/outils/rename_files.sh"
   ]
  },
  {
   "cell_type": "code",
   "execution_count": null,
   "id": "e35827bf-4624-482b-951c-de8137dbac9e",
   "metadata": {},
   "outputs": [],
   "source": []
  }
 ],
 "metadata": {
  "kernelspec": {
   "display_name": "photos_syno",
   "language": "python",
   "name": "photos_syno"
  },
  "language_info": {
   "codemirror_mode": {
    "name": "ipython",
    "version": 3
   },
   "file_extension": ".py",
   "mimetype": "text/x-python",
   "name": "python",
   "nbconvert_exporter": "python",
   "pygments_lexer": "ipython3",
   "version": "3.10.10"
  }
 },
 "nbformat": 4,
 "nbformat_minor": 5
}
